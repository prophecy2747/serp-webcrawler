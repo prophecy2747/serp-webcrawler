{
  "nbformat": 4,
  "nbformat_minor": 0,
  "metadata": {
    "colab": {
      "provenance": []
    },
    "kernelspec": {
      "name": "python3",
      "display_name": "Python 3"
    },
    "language_info": {
      "name": "python"
    }
  },
  "cells": [
    {
      "cell_type": "code",
      "execution_count": null,
      "metadata": {
        "id": "FhFn3ZBNM4wT"
      },
      "outputs": [],
      "source": [
        "from googlesearch import search\n",
        "import csv\n",
        "import time\n",
        "\n",
        "query = 'site:youtube.com openinapp.co'\n",
        "num_results = 10000  # Number of results to retrieve\n",
        "max_results_per_page = 10  # Maximum number of results per page\n",
        "delay = 0.1  # Delay between each request in seconds\n",
        "\n",
        "youtube_links_windows = []\n",
        "count = 0\n",
        "\n",
        "for page in range(1, (num_results // max_results_per_page) + 2):\n",
        "    for result in search(query, start=(page - 1) * max_results_per_page, num=max_results_per_page):\n",
        "        if 'youtube.com' in result:\n",
        "            youtube_links_windows.append(result)\n",
        "            count += 1\n",
        "            print(f\"Collected {count} links so far.\")\n",
        "            if count >= num_results:\n",
        "                break\n",
        "        time.sleep(delay)\n",
        "    if count >= num_results:\n",
        "        break\n",
        "\n",
        "file_path = '/content/drive/MyDrive/Colab Notebooks/Projects/Webscrape listed/youtube_links_windows.csv'\n",
        "\n",
        "with open(file_path, 'w', newline='', encoding='utf-8') as csvfile:\n",
        "    writer = csv.writer(csvfile)\n",
        "    writer.writerow(['YouTube Links'])\n",
        "    writer.writerows([[link] for link in youtube_links_windows])\n",
        "\n",
        "print(\"CSV file saved successfully.\")"
      ]
    },
    {
      "cell_type": "code",
      "source": [
        "from google.colab import drive\n",
        "drive.mount('/content/drive')"
      ],
      "metadata": {
        "colab": {
          "base_uri": "https://localhost:8080/"
        },
        "id": "VnbU3NayNYoj",
        "outputId": "ed5cd0da-aff3-46c7-b7a0-d0d1528c2bc6"
      },
      "execution_count": null,
      "outputs": [
        {
          "output_type": "stream",
          "name": "stdout",
          "text": [
            "Mounted at /content/drive\n"
          ]
        }
      ]
    }
  ]
}